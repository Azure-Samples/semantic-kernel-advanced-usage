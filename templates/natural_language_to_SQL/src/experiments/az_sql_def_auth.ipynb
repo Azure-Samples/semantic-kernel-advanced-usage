{
 "cells": [
  {
   "cell_type": "code",
   "execution_count": 2,
   "id": "e34ce3f5",
   "metadata": {},
   "outputs": [
    {
     "name": "stdout",
     "output_type": "stream",
     "text": [
      "Collecting pyodbc\n",
      "  Downloading pyodbc-5.2.0-cp312-cp312-win_amd64.whl.metadata (2.8 kB)\n",
      "Downloading pyodbc-5.2.0-cp312-cp312-win_amd64.whl (69 kB)\n",
      "Installing collected packages: pyodbc\n",
      "Successfully installed pyodbc-5.2.0\n",
      "Note: you may need to restart the kernel to use updated packages.\n"
     ]
    }
   ],
   "source": [
    "%pip install pyodbc"
   ]
  },
  {
   "cell_type": "code",
   "execution_count": null,
   "id": "f21a4401",
   "metadata": {},
   "outputs": [
    {
     "name": "stdout",
     "output_type": "stream",
     "text": [
      "(1, 'Adjustable Race', 'AR-5381', False, False, None, 1000, 750, Decimal('0.0000'), Decimal('0.0000'), None, None, None, None, 0, None, None, None, None, None, datetime.datetime(2008, 4, 30, 0, 0), None, None, '694215B7-08F7-4C0D-ACB1-D734BA44C0C8', datetime.datetime(2014, 2, 8, 10, 1, 36, 827000))\n",
      "(2, 'Bearing Ball', 'BA-8327', False, False, None, 1000, 750, Decimal('0.0000'), Decimal('0.0000'), None, None, None, None, 0, None, None, None, None, None, datetime.datetime(2008, 4, 30, 0, 0), None, None, '58AE3C20-4F3A-4749-A7D4-D568806CC537', datetime.datetime(2014, 2, 8, 10, 1, 36, 827000))\n",
      "(3, 'BB Ball Bearing', 'BE-2349', True, False, None, 800, 600, Decimal('0.0000'), Decimal('0.0000'), None, None, None, None, 1, None, None, None, None, None, datetime.datetime(2008, 4, 30, 0, 0), None, None, '9C21AED2-5BFA-4F18-BCB8-F11638DC2E4E', datetime.datetime(2014, 2, 8, 10, 1, 36, 827000))\n",
      "(4, 'Headset Ball Bearings', 'BE-2908', False, False, None, 800, 600, Decimal('0.0000'), Decimal('0.0000'), None, None, None, None, 0, None, None, None, None, None, datetime.datetime(2008, 4, 30, 0, 0), None, None, 'ECFED6CB-51FF-49B5-B06C-7D8AC834DB8B', datetime.datetime(2014, 2, 8, 10, 1, 36, 827000))\n",
      "(316, 'Blade', 'BL-2036', True, False, None, 800, 600, Decimal('0.0000'), Decimal('0.0000'), None, None, None, None, 1, None, None, None, None, None, datetime.datetime(2008, 4, 30, 0, 0), None, None, 'E73E9750-603B-4131-89F5-3DD15ED5FF80', datetime.datetime(2014, 2, 8, 10, 1, 36, 827000))\n",
      "(317, 'LL Crankarm', 'CA-5965', False, False, 'Black', 500, 375, Decimal('0.0000'), Decimal('0.0000'), None, None, None, None, 0, None, 'L ', None, None, None, datetime.datetime(2008, 4, 30, 0, 0), None, None, '3C9D10B7-A6B2-4774-9963-C19DCEE72FEA', datetime.datetime(2014, 2, 8, 10, 1, 36, 827000))\n",
      "(318, 'ML Crankarm', 'CA-6738', False, False, 'Black', 500, 375, Decimal('0.0000'), Decimal('0.0000'), None, None, None, None, 0, None, 'M ', None, None, None, datetime.datetime(2008, 4, 30, 0, 0), None, None, 'EABB9A92-FA07-4EAB-8955-F0517B4A4CA7', datetime.datetime(2014, 2, 8, 10, 1, 36, 827000))\n",
      "(319, 'HL Crankarm', 'CA-7457', False, False, 'Black', 500, 375, Decimal('0.0000'), Decimal('0.0000'), None, None, None, None, 0, None, None, None, None, None, datetime.datetime(2008, 4, 30, 0, 0), None, None, '7D3FD384-4F29-484B-86FA-4206E276FE58', datetime.datetime(2014, 2, 8, 10, 1, 36, 827000))\n",
      "(320, 'Chainring Bolts', 'CB-2903', False, False, 'Silver', 1000, 750, Decimal('0.0000'), Decimal('0.0000'), None, None, None, None, 0, None, None, None, None, None, datetime.datetime(2008, 4, 30, 0, 0), None, None, '7BE38E48-B7D6-4486-888E-F53C26735101', datetime.datetime(2014, 2, 8, 10, 1, 36, 827000))\n",
      "(321, 'Chainring Nut', 'CN-6137', False, False, 'Silver', 1000, 750, Decimal('0.0000'), Decimal('0.0000'), None, None, None, None, 0, None, None, None, None, None, datetime.datetime(2008, 4, 30, 0, 0), None, None, '3314B1D7-EF69-4431-B6DD-DC75268BD5DF', datetime.datetime(2014, 2, 8, 10, 1, 36, 827000))\n"
     ]
    }
   ],
   "source": [
    "import pyodbc\n",
    "import struct\n",
    "from azure.identity import AzureCliCredential\n",
    "\n",
    "AZURE_SQL_SERVER=\"xxxxxxx.database.windows.net\"\n",
    "AZURE_SQL_DATABASE=\"adventureworks\"\n",
    "\n",
    "# Get the access token using Azure CLI\n",
    "credential = AzureCliCredential()\n",
    "token = credential.get_token(\"https://database.windows.net/\").token\n",
    "\n",
    "# Prepare the token for ODBC\n",
    "token_bytes = bytes(token, \"UTF-8\")\n",
    "expanded_token = b\"\".join([bytes([b]) + b\"\\x00\" for b in token_bytes])\n",
    "token_struct = struct.pack(\"=i\", len(expanded_token)) + expanded_token\n",
    "\n",
    "# Connection string\n",
    "server = AZURE_SQL_SERVER\n",
    "database = AZURE_SQL_DATABASE\n",
    "conn_str = f\"DRIVER={{ODBC Driver 18 for SQL Server}};SERVER={server};DATABASE={database};Encrypt=yes;TrustServerCertificate=no;Connection Timeout=60;\"\n",
    "\n",
    "# Connect to Azure SQL\n",
    "conn = pyodbc.connect(conn_str, attrs_before={1256: token_struct})\n",
    "cursor = conn.cursor()\n",
    "cursor.execute(\"SELECT TOP 10 * FROM Production.Product\")\n",
    "for row in cursor.fetchall():\n",
    "    print(row)"
   ]
  }
 ],
 "metadata": {
  "kernelspec": {
   "display_name": ".venv",
   "language": "python",
   "name": "python3"
  },
  "language_info": {
   "codemirror_mode": {
    "name": "ipython",
    "version": 3
   },
   "file_extension": ".py",
   "mimetype": "text/x-python",
   "name": "python",
   "nbconvert_exporter": "python",
   "pygments_lexer": "ipython3",
   "version": "3.12.10"
  }
 },
 "nbformat": 4,
 "nbformat_minor": 5
}
