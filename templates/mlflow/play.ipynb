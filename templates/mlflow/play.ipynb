{
 "cells": [
  {
   "cell_type": "code",
   "execution_count": 9,
   "id": "51a1f8b5",
   "metadata": {},
   "outputs": [
    {
     "name": "stdout",
     "output_type": "stream",
     "text": [
      "The autoreload extension is already loaded. To reload it, use:\n",
      "  %reload_ext autoreload\n"
     ]
    }
   ],
   "source": [
    "%load_ext autoreload\n",
    "%autoreload 2"
   ]
  },
  {
   "cell_type": "code",
   "execution_count": 10,
   "id": "1db3eacc",
   "metadata": {},
   "outputs": [
    {
     "data": {
      "text/plain": [
       "True"
      ]
     },
     "execution_count": 10,
     "metadata": {},
     "output_type": "execute_result"
    }
   ],
   "source": [
    "from dotenv import load_dotenv\n",
    "load_dotenv(override=True)"
   ]
  },
  {
   "cell_type": "code",
   "execution_count": 11,
   "id": "bd68bc8b",
   "metadata": {},
   "outputs": [
    {
     "name": "stderr",
     "output_type": "stream",
     "text": [
      "Overriding of current TracerProvider is not allowed\n"
     ]
    }
   ],
   "source": [
    "from opentelemetry.sdk.trace import TracerProvider\n",
    "from opentelemetry import trace\n",
    "from opentelemetry.sdk.trace.export import SimpleSpanProcessor\n",
    "from opentelemetry.exporter.otlp.proto.grpc.trace_exporter import OTLPSpanExporter\n",
    "\n",
    "# 1. Set up the provider and exporter (OTLP exporter uses env vars for config)\n",
    "tracer_provider = TracerProvider()\n",
    "otlp_exporter = OTLPSpanExporter()\n",
    "processor = SimpleSpanProcessor(otlp_exporter)\n",
    "\n",
    "tracer_provider.add_span_processor(processor)\n",
    "\n",
    "# 2. Register the provider as global\n",
    "trace.set_tracer_provider(tracer_provider)"
   ]
  },
  {
   "cell_type": "code",
   "execution_count": 12,
   "id": "e7a43af2",
   "metadata": {},
   "outputs": [],
   "source": [
    "# Check SK environment variables are set\n",
    "import os\n",
    "assert os.getenv(\"SEMANTICKERNEL_EXPERIMENTAL_GENAI_ENABLE_OTEL_DIAGNOSTICS_SENSITIVE\") == \"true\""
   ]
  },
  {
   "cell_type": "code",
   "execution_count": 13,
   "id": "9e63e18f",
   "metadata": {},
   "outputs": [],
   "source": [
    "import os\n",
    "from openai import AsyncAzureOpenAI\n",
    "from semantic_kernel.kernel import Kernel\n",
    "from semantic_kernel.connectors.ai.open_ai import AzureChatCompletion\n",
    "from azure.identity import DefaultAzureCredential, get_bearer_token_provider\n",
    "\n",
    "credential = DefaultAzureCredential()\n",
    "token_provider = get_bearer_token_provider(\n",
    "    credential, \"https://cognitiveservices.azure.com/.default\"\n",
    ")\n",
    "\n",
    "\n",
    "client = AsyncAzureOpenAI(\n",
    "        azure_endpoint=os.getenv(\"AZURE_OPENAI_ENDPOINT\"),\n",
    "        azure_deployment=os.getenv(\"AZURE_OPENAI_CHAT_DEPLOYMENT_NAME\"),\n",
    "        azure_ad_token_provider=token_provider,\n",
    "        api_version=os.getenv(\"AZURE_OPENAI_API_VERSION\"),\n",
    "    )\n",
    "service = AzureChatCompletion(\n",
    "        deployment_name=os.getenv(\"AZURE_OPENAI_CHAT_DEPLOYMENT_NAME\"),\n",
    "        async_client=client,\n",
    "    )"
   ]
  },
  {
   "cell_type": "code",
   "execution_count": 14,
   "id": "7ee143ad",
   "metadata": {},
   "outputs": [],
   "source": [
    "from semantic_kernel.agents import ChatCompletionAgent\n",
    "from semantic_kernel.agents.chat_completion.chat_completion_agent import ChatHistoryAgentThread\n",
    "\n",
    "thread = ChatHistoryAgentThread()\n",
    "\n",
    "agent = ChatCompletionAgent(\n",
    "    id=\"chat-completion-agent\",\n",
    "    name=\"ChatCompletionAgent\",\n",
    "    service=service,\n",
    "    instructions=\"\"\"You are a helpful assistant. You tell jokes\"\"\",\n",
    ")"
   ]
  },
  {
   "cell_type": "code",
   "execution_count": null,
   "id": "6a6ebc24",
   "metadata": {},
   "outputs": [
    {
     "name": "stderr",
     "output_type": "stream",
     "text": [
      "Transient error StatusCode.UNAVAILABLE encountered while exporting traces to localhost:4317, retrying in 1s.\n",
      "Transient error StatusCode.UNAVAILABLE encountered while exporting traces to localhost:4317, retrying in 2s.\n",
      "Transient error StatusCode.UNAVAILABLE encountered while exporting traces to localhost:4317, retrying in 4s.\n"
     ]
    }
   ],
   "source": [
    "async for r in agent.invoke(messages=\"A joke about developers\", thread=thread):\n",
    "    print(r)"
   ]
  },
  {
   "cell_type": "code",
   "execution_count": null,
   "id": "69b10ce8",
   "metadata": {},
   "outputs": [],
   "source": [
    "# finished = memory_exporter.get_finished_spans()\n",
    "# print(f\"Captured {len(finished)} spans: {[span.name for span in finished]}\")"
   ]
  }
 ],
 "metadata": {
  "kernelspec": {
   "display_name": "Python 3",
   "language": "python",
   "name": "python3"
  },
  "language_info": {
   "codemirror_mode": {
    "name": "ipython",
    "version": 3
   },
   "file_extension": ".py",
   "mimetype": "text/x-python",
   "name": "python",
   "nbconvert_exporter": "python",
   "pygments_lexer": "ipython3",
   "version": "3.12.9"
  }
 },
 "nbformat": 4,
 "nbformat_minor": 5
}
