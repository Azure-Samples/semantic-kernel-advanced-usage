{
 "cells": [
  {
   "cell_type": "code",
   "execution_count": null,
   "id": "51a1f8b5",
   "metadata": {},
   "outputs": [],
   "source": [
    "%load_ext autoreload\n",
    "%autoreload 2"
   ]
  },
  {
   "cell_type": "code",
   "execution_count": null,
   "id": "1db3eacc",
   "metadata": {},
   "outputs": [],
   "source": [
    "from dotenv import load_dotenv\n",
    "load_dotenv(override=True)"
   ]
  },
  {
   "cell_type": "code",
   "execution_count": null,
   "id": "19da68de",
   "metadata": {},
   "outputs": [],
   "source": [
    "import logging\n",
    "logger = logging.getLogger(\"mlflow\")\n",
    "logger.setLevel(logging.DEBUG)"
   ]
  },
  {
   "cell_type": "code",
   "execution_count": null,
   "id": "bd68bc8b",
   "metadata": {},
   "outputs": [],
   "source": [
    "# import mlflow\n",
    "# mlflow.tracing.enable()\n",
    "\n",
    "# from mlflow.tracing.export.mlflow import MlflowSpanExporter\n",
    "# from mlflow.tracing.processor.mlflow import MlflowSpanProcessor\n",
    "# from mlflow.tracing.processor.otel import OtelSpanProcessor\n",
    "# from mlflow.tracing.utils.otlp import get_otlp_exporter\n",
    "\n",
    "from opentelemetry.sdk.trace import TracerProvider\n",
    "# exporter = MlflowSpanExporter()\n",
    "# processor = MlflowSpanProcessor(exporter)\n",
    "# exporter2 = get_otlp_exporter()\n",
    "# processor2 = OtelSpanProcessor(exporter2)\n",
    "\n",
    "tracer_provider = TracerProvider()\n",
    "# tracer_provider.add_span_processor(processor2)"
   ]
  },
  {
   "cell_type": "code",
   "execution_count": null,
   "id": "370ac0bc",
   "metadata": {},
   "outputs": [],
   "source": [
    "from opentelemetry import trace\n",
    "from opentelemetry.sdk.trace.export import SimpleSpanProcessor\n",
    "from opentelemetry.exporter.otlp.proto.grpc.trace_exporter import OTLPSpanExporter\n",
    "\n",
    "# 1. Set up the provider and exporter (OTLP exporter uses env vars for config)\n",
    "otlp_exporter = OTLPSpanExporter()\n",
    "processor = SimpleSpanProcessor(otlp_exporter)\n",
    "tracer_provider.add_span_processor(processor)\n",
    "\n",
    "# 2. Register the provider as global\n",
    "trace.set_tracer_provider(tracer_provider)"
   ]
  },
  {
   "cell_type": "code",
   "execution_count": null,
   "id": "a4136621",
   "metadata": {},
   "outputs": [],
   "source": [
    "# mlflow.set_experiment(\"SK Tracing\")"
   ]
  },
  {
   "cell_type": "code",
   "execution_count": null,
   "id": "e7a43af2",
   "metadata": {},
   "outputs": [],
   "source": [
    "import os\n",
    "\n",
    "assert os.getenv(\"SEMANTICKERNEL_EXPERIMENTAL_GENAI_ENABLE_OTEL_DIAGNOSTICS_SENSITIVE\") != \"\""
   ]
  },
  {
   "cell_type": "code",
   "execution_count": null,
   "id": "9e63e18f",
   "metadata": {},
   "outputs": [],
   "source": [
    "import os\n",
    "from openai import AsyncAzureOpenAI\n",
    "from semantic_kernel.kernel import Kernel\n",
    "from semantic_kernel.connectors.ai.open_ai import AzureChatCompletion\n",
    "from azure.identity import DefaultAzureCredential, get_bearer_token_provider\n",
    "\n",
    "credential = DefaultAzureCredential()\n",
    "token_provider = get_bearer_token_provider(\n",
    "    credential, \"https://cognitiveservices.azure.com/.default\"\n",
    ")\n",
    "\n",
    "\n",
    "client = AsyncAzureOpenAI(\n",
    "        azure_endpoint=os.getenv(\"AZURE_OPENAI_ENDPOINT\"),\n",
    "        azure_deployment=os.getenv(\"AZURE_OPENAI_CHAT_DEPLOYMENT_NAME\"),\n",
    "        azure_ad_token_provider=token_provider,\n",
    "        api_version=os.getenv(\"AZURE_OPENAI_API_VERSION\"),\n",
    "    )\n",
    "service = AzureChatCompletion(\n",
    "        deployment_name=os.getenv(\"AZURE_OPENAI_CHAT_DEPLOYMENT_NAME\"),\n",
    "        async_client=client,\n",
    "    )"
   ]
  },
  {
   "cell_type": "code",
   "execution_count": null,
   "id": "7ee143ad",
   "metadata": {},
   "outputs": [],
   "source": [
    "from semantic_kernel.agents import ChatCompletionAgent\n",
    "from semantic_kernel.agents.chat_completion.chat_completion_agent import ChatHistoryAgentThread\n",
    "\n",
    "thread = ChatHistoryAgentThread()\n",
    "\n",
    "agent = ChatCompletionAgent(\n",
    "    id=\"chat-completion-agent\",\n",
    "    name=\"ChatCompletionAgent\",\n",
    "    service=service,\n",
    "    instructions=\"\"\"You are a helpful assistant. You tell jokes\"\"\",\n",
    ")"
   ]
  },
  {
   "cell_type": "code",
   "execution_count": null,
   "id": "6a6ebc24",
   "metadata": {},
   "outputs": [],
   "source": [
    "import mlflow\n",
    "\n",
    "# 3. Start an MLflow run (optional if you want a top-level root span)\n",
    "with mlflow.start_run(run_name=\"SK Traced Run\"):\n",
    "    async for r in agent.invoke(messages=\"A joke about developers\", thread=thread):\n",
    "        print(r)"
   ]
  },
  {
   "cell_type": "code",
   "execution_count": null,
   "id": "69b10ce8",
   "metadata": {},
   "outputs": [],
   "source": [
    "finished = memory_exporter.get_finished_spans()\n",
    "print(f\"Captured {len(finished)} spans: {[span.name for span in finished]}\")"
   ]
  },
  {
   "cell_type": "code",
   "execution_count": null,
   "id": "c6e1927f",
   "metadata": {},
   "outputs": [],
   "source": [
    "import mlflow\n",
    "# High-level API returns a pandas DataFrame\n",
    "traces_df = mlflow.search_traces(\n",
    "    filter_string=\"\",\n",
    "    order_by=[\"timestamp DESC\"],\n",
    "    max_results=50\n",
    ")\n",
    "print(traces_df.head())"
   ]
  },
  {
   "cell_type": "code",
   "execution_count": null,
   "id": "7dfb7ef5",
   "metadata": {},
   "outputs": [],
   "source": [
    "exporter2.force_flush()"
   ]
  }
 ],
 "metadata": {
  "kernelspec": {
   "display_name": "Python 3",
   "language": "python",
   "name": "python3"
  },
  "language_info": {
   "codemirror_mode": {
    "name": "ipython",
    "version": 3
   },
   "file_extension": ".py",
   "mimetype": "text/x-python",
   "name": "python",
   "nbconvert_exporter": "python",
   "pygments_lexer": "ipython3",
   "version": "3.12.9"
  }
 },
 "nbformat": 4,
 "nbformat_minor": 5
}
