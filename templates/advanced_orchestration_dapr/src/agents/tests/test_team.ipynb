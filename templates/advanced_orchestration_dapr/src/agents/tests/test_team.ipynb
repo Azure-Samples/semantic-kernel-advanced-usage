{
 "cells": [
  {
   "cell_type": "code",
   "execution_count": 1,
   "id": "2df7bf7c",
   "metadata": {},
   "outputs": [],
   "source": [
    "%load_ext autoreload\n",
    "%autoreload 2\n"
   ]
  },
  {
   "cell_type": "code",
   "execution_count": 2,
   "id": "f54ddcab",
   "metadata": {},
   "outputs": [],
   "source": [
    "import sys\n",
    "sys.path.append('..')"
   ]
  },
  {
   "cell_type": "code",
   "execution_count": 3,
   "id": "28171cb0",
   "metadata": {},
   "outputs": [
    {
     "data": {
      "text/plain": [
       "True"
      ]
     },
     "execution_count": 3,
     "metadata": {},
     "output_type": "execute_result"
    }
   ],
   "source": [
    "from dotenv import load_dotenv\n",
    "load_dotenv(override=True)"
   ]
  },
  {
   "cell_type": "code",
   "execution_count": 4,
   "id": "1eb9fc13",
   "metadata": {},
   "outputs": [],
   "source": [
    "from telco.telco_team import telco_team"
   ]
  },
  {
   "cell_type": "code",
   "execution_count": 5,
   "id": "cf87d1d8",
   "metadata": {},
   "outputs": [],
   "source": [
    "from semantic_kernel.contents import ChatHistory\n",
    "\n",
    "history = ChatHistory()\n",
    "history.add_user_message(\"Which mobile offers do you have?\")"
   ]
  },
  {
   "cell_type": "code",
   "execution_count": 6,
   "id": "1adc5be7",
   "metadata": {},
   "outputs": [
    {
     "name": "stdout",
     "output_type": "stream",
     "text": [
      "Here are the mobile offers available:\n",
      "\n",
      "1. **All Voice Plan**\n",
      "   - **Description:** Unlimited calls to all networks.\n",
      "   - **Price:** €10/month\n",
      "   - **Details:** Includes 50GB data; extra data available at €1/GB.\n",
      "\n",
      "2. **Mobile Internet**\n",
      "   - **Description:** Mobile WiFi for you to take anywhere, supports up to 10 devices.\n",
      "   - **Price:** €10/month\n",
      "   - **Details:** Comes with 100GB data; €1/GB after that, includes 120 minutes of calls and 100 SMS.\n",
      "\n",
      "3. **Large Data Plan**\n",
      "   - **Description:** High data plan for heavy users.\n",
      "   - **Price:** €20/month\n",
      "   - **Details:** 250GB data included; €0.50/GB after that, includes unlimited calls and SMS.\n",
      "\n",
      "4. **Extra Large Data Plan**\n",
      "   - **Description:** Unlimited data plan for power users.\n",
      "   - **Price:** €50/month\n",
      "   - **Details:** Unlimited data at 5G speeds; includes unlimited calls and SMS.\n",
      "\n",
      "5. **All-in-One Bundle**\n",
      "   - **Description:** Mobile internet and home internet in one package.\n",
      "   - **Price:** €45/month\n",
      "   - **Details:** 100GB mobile data; €1/GB after that, includes home internet.\n",
      "\n",
      "6. **Home Internet**\n",
      "   - **Description:** High-speed internet for your home.\n",
      "   - **Price:** €30/month\n",
      "   - **Details:** Unlimited home data at 1Gbps.\n",
      "\n",
      "If you need more information about any specific plan or assistance in choosing the right one, feel free to ask!\n",
      "PAUSE\n"
     ]
    }
   ],
   "source": [
    "async for message in telco_team.invoke(messages=history.messages):\n",
    "    print(message.content)"
   ]
  }
 ],
 "metadata": {
  "kernelspec": {
   "display_name": ".venv (3.12.9)",
   "language": "python",
   "name": "python3"
  },
  "language_info": {
   "codemirror_mode": {
    "name": "ipython",
    "version": 3
   },
   "file_extension": ".py",
   "mimetype": "text/x-python",
   "name": "python",
   "nbconvert_exporter": "python",
   "pygments_lexer": "ipython3",
   "version": "3.12.10"
  }
 },
 "nbformat": 4,
 "nbformat_minor": 5
}
