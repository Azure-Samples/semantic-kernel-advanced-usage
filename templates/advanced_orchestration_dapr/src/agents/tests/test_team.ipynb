{
 "cells": [
  {
   "cell_type": "code",
   "execution_count": 1,
   "id": "f54ddcab",
   "metadata": {},
   "outputs": [],
   "source": [
    "import sys\n",
    "sys.path.append('..')"
   ]
  },
  {
   "cell_type": "code",
   "execution_count": 2,
   "id": "2df7bf7c",
   "metadata": {},
   "outputs": [],
   "source": [
    "%load_ext autoreload\n",
    "%autoreload 2\n"
   ]
  },
  {
   "cell_type": "code",
   "execution_count": 3,
   "id": "28171cb0",
   "metadata": {},
   "outputs": [],
   "source": [
    "from dotenv import load_dotenv\n",
    "load_dotenv(override=True)\n",
    "\n",
    "import logging\n",
    "logging.basicConfig(level=logging.INFO, format='%(asctime)s - %(levelname)s - %(message)s')\n",
    "logging.getLogger(\"sk_ext\").setLevel(logging.DEBUG)"
   ]
  },
  {
   "cell_type": "code",
   "execution_count": 4,
   "id": "1eb9fc13",
   "metadata": {},
   "outputs": [
    {
     "name": "stderr",
     "output_type": "stream",
     "text": [
      "2025-04-10 16:30:29,219 - INFO - No environment configuration found.\n",
      "2025-04-10 16:30:29,224 - INFO - ManagedIdentityCredential will use IMDS\n",
      "2025-04-10 16:30:29,224 - INFO - ManagedIdentityCredential will use IMDS\n"
     ]
    }
   ],
   "source": [
    "from telco.telco_team import telco_team"
   ]
  },
  {
   "cell_type": "code",
   "execution_count": null,
   "id": "cf87d1d8",
   "metadata": {},
   "outputs": [],
   "source": [
    "from semantic_kernel.agents import ChatHistoryAgentThread\n",
    "thread = ChatHistoryAgentThread()"
   ]
  },
  {
   "cell_type": "code",
   "execution_count": null,
   "id": "d2079d2d",
   "metadata": {},
   "outputs": [],
   "source": [
    "# ask = \"Which is your mobile plan\"\n",
    "ask = \"My customer code is 12345, check my usage and recommend a new plan to save money.\""
   ]
  },
  {
   "cell_type": "code",
   "execution_count": 7,
   "id": "c703824f",
   "metadata": {},
   "outputs": [],
   "source": [
    "# res = await telco_team.get_response(messages=[ask], thread=thread)\n",
    "# res.message.content"
   ]
  },
  {
   "cell_type": "code",
   "execution_count": 8,
   "id": "1adc5be7",
   "metadata": {},
   "outputs": [
    {
     "name": "stderr",
     "output_type": "stream",
     "text": [
      "2025-04-10 16:30:32,028 - INFO - Function SpeakerElection invoking.\n",
      "2025-04-10 16:30:32,038 - INFO - {\"role\": \"user\", \"content\": \"You are a team orchestrator that uses a chat history to determine the next best speaker in the conversation.\\n\\nYour task is to return the agent_id of the speaker that is best suited to proceed based on the context provided in the chat history and the description of the agents, in JSON format as shown in the example output section\\n- You MUST return agent_id value from the list of available agents.\\n- The names are case-sensitive and should not be abbreviated or changed.\\n- DO NOT change the structure of the output, only the values.\\n- You MUST provide a reason for the agent_id selection.\\n- DO NOT output any additional formatting or text.\\n- When a user input is expected, you MUST select an agent capable of handling the user input.\\n- When provided, you can also take a decision based on tools available to each agent\\n- When provided, you can also take a decision based on the allowed transitions between agents.\\n\\n\\n### Example Output\\n{\\\"agent_id\\\": \\\"agent_1\\\", \\\"reason\\\": \\\"Agent 1 is the best speaker for the next turn.\\\"}\\n\\n\\n### Agents\\n\\n- agent_id: user_agent\\n    - description: A human user that interacts with the system. Can provide input to the chat\\n\\n\\n\\n\\n- agent_id: sales\\n    - description: A sales agent that can answer describe available offers\\n    - tool 'get_offers': None\\n\\n\\n\\n- agent_id: technical\\n    - description: A technical support agent that can answer technical questions\\n    - tool 'check_customer_telemetry': None\\n    - tool 'get_service_status': None\\n\\n\\n\\n- agent_id: billing\\n    - description: A billing support agent that can answer billing-related questions, like invoices, payment methods, and usage metrics\\n    - tool 'change_payment_method': None\\n    - tool 'get_last_invoice': None\\n    - tool 'get_payment_methods': None\\n    - tool 'get_usage_metrics': None\\n\\n\\n\\n- agent_id: planned-team\\n    - description: A special agent that can handle more complex asks by orchestrating multiple agents. Useful when user asks spans multiple domains.\\n\\n\\n\\n\\n\\n\\n### Chat History\\n\\n[{'role': 'AuthorRole.USER', 'content': 'Which is your mobile plan', 'name': 'user'}]\\n\\n\\nBE SURE TO READ AGAIN THE INSTUCTIONS ABOVE BEFORE PROCEEDING.\"}\n",
      "2025-04-10 16:30:32,048 - INFO - Request URL: 'http://169.254.169.254/metadata/identity/oauth2/token?api-version=REDACTED&resource=REDACTED'\n",
      "Request method: 'GET'\n",
      "Request headers:\n",
      "    'User-Agent': 'azsdk-python-identity/1.20.0 Python/3.12.10 (Windows-11-10.0.26100-SP0)'\n",
      "No body was attached to the request\n",
      "2025-04-10 16:30:33,475 - INFO - DefaultAzureCredential acquired a token from AzureCliCredential\n",
      "2025-04-10 16:30:34,509 - INFO - HTTP Request: POST https://ricchi-oai-sw.openai.azure.com/openai/deployments/gpt-4o-mini/chat/completions?api-version=2024-08-01-preview \"HTTP/1.1 200 OK\"\n",
      "2025-04-10 16:30:34,521 - INFO - OpenAI usage: CompletionUsage(completion_tokens=35, prompt_tokens=477, total_tokens=512, completion_tokens_details=CompletionTokensDetails(accepted_prediction_tokens=0, audio_tokens=0, reasoning_tokens=0, rejected_prediction_tokens=0), prompt_tokens_details=PromptTokensDetails(audio_tokens=0, cached_tokens=0))\n",
      "2025-04-10 16:30:34,522 - INFO - {\"message\": {\"role\": \"assistant\", \"content\": \"{\\\"agent_id\\\": \\\"sales\\\", \\\"reason\\\": \\\"The user is asking about a mobile plan, which is within the sales agent's expertise to describe available offers.\\\"}\"}, \"finish_reason\": \"stop\"}\n",
      "2025-04-10 16:30:34,523 - INFO - Function SpeakerElection succeeded.\n",
      "2025-04-10 16:30:34,525 - INFO - Function completed. Duration: 2.494601s\n",
      "2025-04-10 16:30:34,525 - INFO - SpeakerElectionStrategy: {\"agent_id\": \"sales\", \"reason\": \"The user is asking about a mobile plan, which is within the sales agent's expertise to describe available offers.\"}\n",
      "2025-04-10 16:30:34,531 - INFO - {\"role\": \"system\", \"content\": \"\\nYou are a sales person that responds to customer inquiries.\\n\\nYour tasks are:\\n- Provide the Customer with the information they need. Try to be specific and provide options that fit their needs.\\n\\n# IMPORTANT NOTES\\n- DO act politely and professionally.\\n- NEVER provide false information.\\n\", \"name\": \"Sales\"}\n",
      "2025-04-10 16:30:34,533 - INFO - {\"role\": \"user\", \"content\": \"Which is your mobile plan\"}\n",
      "2025-04-10 16:30:35,178 - INFO - HTTP Request: POST https://ricchi-oai-sw.openai.azure.com/openai/deployments/gpt-4o-mini/chat/completions?api-version=2024-08-01-preview \"HTTP/1.1 200 OK\"\n",
      "2025-04-10 16:30:35,180 - INFO - OpenAI usage: CompletionUsage(completion_tokens=16, prompt_tokens=97, total_tokens=113, completion_tokens_details=CompletionTokensDetails(accepted_prediction_tokens=0, audio_tokens=0, reasoning_tokens=0, rejected_prediction_tokens=0), prompt_tokens_details=PromptTokensDetails(audio_tokens=0, cached_tokens=0))\n",
      "2025-04-10 16:30:35,181 - INFO - {\"message\": {\"role\": \"assistant\", \"tool_calls\": [{\"id\": \"call_xQdwdJEv5TskNZouWtI965F6\", \"type\": \"function\", \"function\": {\"name\": \"SalesAgentPlugin-get_offers\", \"arguments\": \"{}\"}}]}, \"finish_reason\": \"tool_calls\"}\n",
      "2025-04-10 16:30:35,181 - INFO - processing 1 tool calls in parallel.\n",
      "2025-04-10 16:30:35,181 - INFO - Calling SalesAgentPlugin-get_offers function with args: {}\n",
      "2025-04-10 16:30:35,189 - INFO - Function SalesAgentPlugin-get_offers invoking.\n",
      "2025-04-10 16:30:35,189 - INFO - Function SalesAgentPlugin-get_offers succeeded.\n",
      "2025-04-10 16:30:35,190 - INFO - Function completed. Duration: 0.000669s\n",
      "2025-04-10 16:30:35,190 - INFO - {\"role\": \"system\", \"content\": \"\\nYou are a sales person that responds to customer inquiries.\\n\\nYour tasks are:\\n- Provide the Customer with the information they need. Try to be specific and provide options that fit their needs.\\n\\n# IMPORTANT NOTES\\n- DO act politely and professionally.\\n- NEVER provide false information.\\n\", \"name\": \"Sales\"}\n",
      "2025-04-10 16:30:35,191 - INFO - {\"role\": \"user\", \"content\": \"Which is your mobile plan\"}\n",
      "2025-04-10 16:30:35,193 - INFO - {\"role\": \"assistant\", \"tool_calls\": [{\"id\": \"call_xQdwdJEv5TskNZouWtI965F6\", \"type\": \"function\", \"function\": {\"name\": \"SalesAgentPlugin-get_offers\", \"arguments\": \"{}\"}}]}\n",
      "2025-04-10 16:30:35,193 - INFO - {\"role\": \"tool\", \"content\": \"{\\\"All voice plan\\\": {\\\"Description\\\": \\\"All voice plan for unlimited calls.\\\", \\\"Price\\\": \\\"\\\\u20ac10/month\\\", \\\"Details\\\": \\\"Unlimited calls to all networks, 50GB data included, extra data \\\\u20ac1/GB.\\\"}, \\\"Mobile Internet\\\": {\\\"Description\\\": \\\"Mobile WiFi for you to take anywhere, supports up to 10 devices.\\\", \\\"Price\\\": \\\"\\\\u20ac10/month\\\", \\\"Details\\\": \\\"100GB data included, \\\\u20ac1/GB after that. 120 minutes of calls and 100 SMS.\\\"}, \\\"Large Data Plan\\\": {\\\"Description\\\": \\\"High data plan for heavy users.\\\", \\\"Price\\\": \\\"\\\\u20ac20/month\\\", \\\"Details\\\": \\\"250GB data included, \\\\u20ac0.50/GB after that. Unlimited calls and SMS.\\\"}, \\\"Extra Large Data Plan\\\": {\\\"Description\\\": \\\"Unlimited data plan for power users.\\\", \\\"Price\\\": \\\"\\\\u20ac50/month\\\", \\\"Details\\\": \\\"Unlimited data at 5G speeds. Unlimited calls and SMS.\\\"}, \\\"All-in-One Bundle\\\": {\\\"Description\\\": \\\"Mobile internet and home internet in one package.\\\", \\\"Price\\\": \\\"\\\\u20ac45/month\\\", \\\"Details\\\": \\\"100GB mobile data, \\\\u20ac1/GB after that. Home internet included.\\\"}, \\\"Home Internet\\\": {\\\"Description\\\": \\\"High-speed internet for your home.\\\", \\\"Price\\\": \\\"\\\\u20ac30/month\\\", \\\"Details\\\": \\\"Unlimited home data at 1Gbps.\\\"}}\", \"tool_call_id\": \"call_xQdwdJEv5TskNZouWtI965F6\"}\n",
      "2025-04-10 16:30:40,442 - INFO - HTTP Request: POST https://ricchi-oai-sw.openai.azure.com/openai/deployments/gpt-4o-mini/chat/completions?api-version=2024-08-01-preview \"HTTP/1.1 200 OK\"\n",
      "2025-04-10 16:30:40,444 - INFO - OpenAI usage: CompletionUsage(completion_tokens=356, prompt_tokens=431, total_tokens=787, completion_tokens_details=CompletionTokensDetails(accepted_prediction_tokens=0, audio_tokens=0, reasoning_tokens=0, rejected_prediction_tokens=0), prompt_tokens_details=PromptTokensDetails(audio_tokens=0, cached_tokens=0))\n",
      "2025-04-10 16:30:40,445 - INFO - {\"message\": {\"role\": \"assistant\", \"content\": \"We offer a variety of mobile plans to fit different needs. Here\\u2019s a summary of our options:\\n\\n1. **All Voice Plan**\\n   - **Description:** Unlimited calls to all networks.\\n   - **Price:** \\u20ac10/month\\n   - **Details:** Includes 50GB data; extra data is \\u20ac1/GB.\\n\\n2. **Mobile Internet**\\n   - **Description:** Mobile WiFi that supports up to 10 devices.\\n   - **Price:** \\u20ac10/month\\n   - **Details:** Includes 100GB data, 120 minutes of calls, and 100 SMS; extra data is \\u20ac1/GB after that.\\n\\n3. **Large Data Plan**\\n   - **Description:** High data plan for heavy users.\\n   - **Price:** \\u20ac20/month\\n   - **Details:** Includes 250GB data; extra data is \\u20ac0.50/GB. Unlimited calls and SMS.\\n\\n4. **Extra Large Data Plan**\\n   - **Description:** Unlimited data plan for power users.\\n   - **Price:** \\u20ac50/month\\n   - **Details:** Unlimited data at 5G speeds with unlimited calls and SMS.\\n\\n5. **All-in-One Bundle**\\n   - **Description:** Mobile internet and home internet in one package.\\n   - **Price:** \\u20ac45/month\\n   - **Details:** 100GB mobile data; extra data is \\u20ac1/GB after that. Home internet included.\\n\\n6. **Home Internet**\\n   - **Description:** High-speed internet for your home.\\n   - **Price:** \\u20ac30/month\\n   - **Details:** Unlimited home data at 1Gbps.\\n\\nIf you have any preferences or specific requirements, please let me know, and I can help you choose the best plan for your needs!\"}, \"finish_reason\": \"stop\"}\n",
      "2025-04-10 16:30:40,446 - INFO - Agent sales sent message: We offer a variety of mobile plans to fit different needs. Here’s a summary of our options:\n",
      "\n",
      "1. **All Voice Plan**\n",
      "   - **Description:** Unlimited calls to all networks.\n",
      "   - **Price:** €10/month\n",
      "   - **Details:** Includes 50GB data; extra data is €1/GB.\n",
      "\n",
      "2. **Mobile Internet**\n",
      "   - **Description:** Mobile WiFi that supports up to 10 devices.\n",
      "   - **Price:** €10/month\n",
      "   - **Details:** Includes 100GB data, 120 minutes of calls, and 100 SMS; extra data is €1/GB after that.\n",
      "\n",
      "3. **Large Data Plan**\n",
      "   - **Description:** High data plan for heavy users.\n",
      "   - **Price:** €20/month\n",
      "   - **Details:** Includes 250GB data; extra data is €0.50/GB. Unlimited calls and SMS.\n",
      "\n",
      "4. **Extra Large Data Plan**\n",
      "   - **Description:** Unlimited data plan for power users.\n",
      "   - **Price:** €50/month\n",
      "   - **Details:** Unlimited data at 5G speeds with unlimited calls and SMS.\n",
      "\n",
      "5. **All-in-One Bundle**\n",
      "   - **Description:** Mobile internet and home internet in one package.\n",
      "   - **Price:** €45/month\n",
      "   - **Details:** 100GB mobile data; extra data is €1/GB after that. Home internet included.\n",
      "\n",
      "6. **Home Internet**\n",
      "   - **Description:** High-speed internet for your home.\n",
      "   - **Price:** €30/month\n",
      "   - **Details:** Unlimited home data at 1Gbps.\n",
      "\n",
      "If you have any preferences or specific requirements, please let me know, and I can help you choose the best plan for your needs!\n",
      "2025-04-10 16:30:40,447 - INFO - Evaluating termination criteria for sales\n",
      "2025-04-10 16:30:40,447 - INFO - Evaluated criteria for sales, should terminate: False\n",
      "2025-04-10 16:30:40,449 - INFO - Function SpeakerElection invoking.\n",
      "2025-04-10 16:30:40,453 - INFO - {\"role\": \"user\", \"content\": \"You are a team orchestrator that uses a chat history to determine the next best speaker in the conversation.\\n\\nYour task is to return the agent_id of the speaker that is best suited to proceed based on the context provided in the chat history and the description of the agents, in JSON format as shown in the example output section\\n- You MUST return agent_id value from the list of available agents.\\n- The names are case-sensitive and should not be abbreviated or changed.\\n- DO NOT change the structure of the output, only the values.\\n- You MUST provide a reason for the agent_id selection.\\n- DO NOT output any additional formatting or text.\\n- When a user input is expected, you MUST select an agent capable of handling the user input.\\n- When provided, you can also take a decision based on tools available to each agent\\n- When provided, you can also take a decision based on the allowed transitions between agents.\\n\\n\\n### Example Output\\n{\\\"agent_id\\\": \\\"agent_1\\\", \\\"reason\\\": \\\"Agent 1 is the best speaker for the next turn.\\\"}\\n\\n\\n### Agents\\n\\n- agent_id: user_agent\\n    - description: A human user that interacts with the system. Can provide input to the chat\\n\\n\\n\\n\\n- agent_id: sales\\n    - description: A sales agent that can answer describe available offers\\n    - tool 'get_offers': None\\n\\n\\n\\n- agent_id: technical\\n    - description: A technical support agent that can answer technical questions\\n    - tool 'check_customer_telemetry': None\\n    - tool 'get_service_status': None\\n\\n\\n\\n- agent_id: billing\\n    - description: A billing support agent that can answer billing-related questions, like invoices, payment methods, and usage metrics\\n    - tool 'change_payment_method': None\\n    - tool 'get_last_invoice': None\\n    - tool 'get_payment_methods': None\\n    - tool 'get_usage_metrics': None\\n\\n\\n\\n- agent_id: planned-team\\n    - description: A special agent that can handle more complex asks by orchestrating multiple agents. Useful when user asks spans multiple domains.\\n\\n\\n\\n\\n\\n\\n### Chat History\\n\\n[{'role': 'AuthorRole.USER', 'content': 'Which is your mobile plan', 'name': 'user'}, {'role': 'AuthorRole.ASSISTANT', 'content': 'We offer a variety of mobile plans to fit different needs. Here\\u2019s a summary of our options:\\\\n\\\\n1. **All Voice Plan**\\\\n   - **Description:** Unlimited calls to all networks.\\\\n   - **Price:** \\u20ac10/month\\\\n   - **Details:** Includes 50GB data; extra data is \\u20ac1/GB.\\\\n\\\\n2. **Mobile Internet**\\\\n   - **Description:** Mobile WiFi that supports up to 10 devices.\\\\n   - **Price:** \\u20ac10/month\\\\n   - **Details:** Includes 100GB data, 120 minutes of calls, and 100 SMS; extra data is \\u20ac1/GB after that.\\\\n\\\\n3. **Large Data Plan**\\\\n   - **Description:** High data plan for heavy users.\\\\n   - **Price:** \\u20ac20/month\\\\n   - **Details:** Includes 250GB data; extra data is \\u20ac0.50/GB. Unlimited calls and SMS.\\\\n\\\\n4. **Extra Large Data Plan**\\\\n   - **Description:** Unlimited data plan for power users.\\\\n   - **Price:** \\u20ac50/month\\\\n   - **Details:** Unlimited data at 5G speeds with unlimited calls and SMS.\\\\n\\\\n5. **All-in-One Bundle**\\\\n   - **Description:** Mobile internet and home internet in one package.\\\\n   - **Price:** \\u20ac45/month\\\\n   - **Details:** 100GB mobile data; extra data is \\u20ac1/GB after that. Home internet included.\\\\n\\\\n6. **Home Internet**\\\\n   - **Description:** High-speed internet for your home.\\\\n   - **Price:** \\u20ac30/month\\\\n   - **Details:** Unlimited home data at 1Gbps.\\\\n\\\\nIf you have any preferences or specific requirements, please let me know, and I can help you choose the best plan for your needs!', 'name': 'Sales'}]\\n\\n\\nBE SURE TO READ AGAIN THE INSTUCTIONS ABOVE BEFORE PROCEEDING.\"}\n"
     ]
    },
    {
     "name": "stdout",
     "output_type": "stream",
     "text": [
      "We offer a variety of mobile plans to fit different needs. Here’s a summary of our options:\n",
      "\n",
      "1. **All Voice Plan**\n",
      "   - **Description:** Unlimited calls to all networks.\n",
      "   - **Price:** €10/month\n",
      "   - **Details:** Includes 50GB data; extra data is €1/GB.\n",
      "\n",
      "2. **Mobile Internet**\n",
      "   - **Description:** Mobile WiFi that supports up to 10 devices.\n",
      "   - **Price:** €10/month\n",
      "   - **Details:** Includes 100GB data, 120 minutes of calls, and 100 SMS; extra data is €1/GB after that.\n",
      "\n",
      "3. **Large Data Plan**\n",
      "   - **Description:** High data plan for heavy users.\n",
      "   - **Price:** €20/month\n",
      "   - **Details:** Includes 250GB data; extra data is €0.50/GB. Unlimited calls and SMS.\n",
      "\n",
      "4. **Extra Large Data Plan**\n",
      "   - **Description:** Unlimited data plan for power users.\n",
      "   - **Price:** €50/month\n",
      "   - **Details:** Unlimited data at 5G speeds with unlimited calls and SMS.\n",
      "\n",
      "5. **All-in-One Bundle**\n",
      "   - **Description:** Mobile internet and home internet in one package.\n",
      "   - **Price:** €45/month\n",
      "   - **Details:** 100GB mobile data; extra data is €1/GB after that. Home internet included.\n",
      "\n",
      "6. **Home Internet**\n",
      "   - **Description:** High-speed internet for your home.\n",
      "   - **Price:** €30/month\n",
      "   - **Details:** Unlimited home data at 1Gbps.\n",
      "\n",
      "If you have any preferences or specific requirements, please let me know, and I can help you choose the best plan for your needs!\n"
     ]
    },
    {
     "name": "stderr",
     "output_type": "stream",
     "text": [
      "2025-04-10 16:30:41,297 - INFO - HTTP Request: POST https://ricchi-oai-sw.openai.azure.com/openai/deployments/gpt-4o-mini/chat/completions?api-version=2024-08-01-preview \"HTTP/1.1 200 OK\"\n",
      "2025-04-10 16:30:41,298 - INFO - OpenAI usage: CompletionUsage(completion_tokens=35, prompt_tokens=884, total_tokens=919, completion_tokens_details=CompletionTokensDetails(accepted_prediction_tokens=0, audio_tokens=0, reasoning_tokens=0, rejected_prediction_tokens=0), prompt_tokens_details=PromptTokensDetails(audio_tokens=0, cached_tokens=0))\n",
      "2025-04-10 16:30:41,299 - INFO - {\"message\": {\"role\": \"assistant\", \"content\": \"{\\\"agent_id\\\": \\\"user_agent\\\", \\\"reason\\\": \\\"The user needs to provide their preferences or specific requirements regarding the mobile plan options presented by the sales agent.\\\"}\"}, \"finish_reason\": \"stop\"}\n",
      "2025-04-10 16:30:41,302 - INFO - Function SpeakerElection succeeded.\n",
      "2025-04-10 16:30:41,302 - INFO - Function completed. Duration: 0.849944s\n",
      "2025-04-10 16:30:41,303 - INFO - SpeakerElectionStrategy: {\"agent_id\": \"user_agent\", \"reason\": \"The user needs to provide their preferences or specific requirements regarding the mobile plan options presented by the sales agent.\"}\n",
      "2025-04-10 16:30:41,305 - INFO - {\"role\": \"system\", \"content\": \"Always respond PAUSE\", \"name\": \"User\"}\n",
      "2025-04-10 16:30:41,306 - INFO - {\"role\": \"user\", \"content\": \"Which is your mobile plan\"}\n",
      "2025-04-10 16:30:41,306 - INFO - {\"role\": \"assistant\", \"tool_calls\": [{\"id\": \"call_xQdwdJEv5TskNZouWtI965F6\", \"type\": \"function\", \"function\": {\"name\": \"SalesAgentPlugin-get_offers\", \"arguments\": \"{}\"}}], \"name\": \"Sales\"}\n",
      "2025-04-10 16:30:41,307 - INFO - {\"role\": \"tool\", \"content\": \"{\\\"All voice plan\\\": {\\\"Description\\\": \\\"All voice plan for unlimited calls.\\\", \\\"Price\\\": \\\"\\\\u20ac10/month\\\", \\\"Details\\\": \\\"Unlimited calls to all networks, 50GB data included, extra data \\\\u20ac1/GB.\\\"}, \\\"Mobile Internet\\\": {\\\"Description\\\": \\\"Mobile WiFi for you to take anywhere, supports up to 10 devices.\\\", \\\"Price\\\": \\\"\\\\u20ac10/month\\\", \\\"Details\\\": \\\"100GB data included, \\\\u20ac1/GB after that. 120 minutes of calls and 100 SMS.\\\"}, \\\"Large Data Plan\\\": {\\\"Description\\\": \\\"High data plan for heavy users.\\\", \\\"Price\\\": \\\"\\\\u20ac20/month\\\", \\\"Details\\\": \\\"250GB data included, \\\\u20ac0.50/GB after that. Unlimited calls and SMS.\\\"}, \\\"Extra Large Data Plan\\\": {\\\"Description\\\": \\\"Unlimited data plan for power users.\\\", \\\"Price\\\": \\\"\\\\u20ac50/month\\\", \\\"Details\\\": \\\"Unlimited data at 5G speeds. Unlimited calls and SMS.\\\"}, \\\"All-in-One Bundle\\\": {\\\"Description\\\": \\\"Mobile internet and home internet in one package.\\\", \\\"Price\\\": \\\"\\\\u20ac45/month\\\", \\\"Details\\\": \\\"100GB mobile data, \\\\u20ac1/GB after that. Home internet included.\\\"}, \\\"Home Internet\\\": {\\\"Description\\\": \\\"High-speed internet for your home.\\\", \\\"Price\\\": \\\"\\\\u20ac30/month\\\", \\\"Details\\\": \\\"Unlimited home data at 1Gbps.\\\"}}\", \"tool_call_id\": \"call_xQdwdJEv5TskNZouWtI965F6\"}\n",
      "2025-04-10 16:30:41,307 - INFO - {\"role\": \"assistant\", \"content\": \"We offer a variety of mobile plans to fit different needs. Here\\u2019s a summary of our options:\\n\\n1. **All Voice Plan**\\n   - **Description:** Unlimited calls to all networks.\\n   - **Price:** \\u20ac10/month\\n   - **Details:** Includes 50GB data; extra data is \\u20ac1/GB.\\n\\n2. **Mobile Internet**\\n   - **Description:** Mobile WiFi that supports up to 10 devices.\\n   - **Price:** \\u20ac10/month\\n   - **Details:** Includes 100GB data, 120 minutes of calls, and 100 SMS; extra data is \\u20ac1/GB after that.\\n\\n3. **Large Data Plan**\\n   - **Description:** High data plan for heavy users.\\n   - **Price:** \\u20ac20/month\\n   - **Details:** Includes 250GB data; extra data is \\u20ac0.50/GB. Unlimited calls and SMS.\\n\\n4. **Extra Large Data Plan**\\n   - **Description:** Unlimited data plan for power users.\\n   - **Price:** \\u20ac50/month\\n   - **Details:** Unlimited data at 5G speeds with unlimited calls and SMS.\\n\\n5. **All-in-One Bundle**\\n   - **Description:** Mobile internet and home internet in one package.\\n   - **Price:** \\u20ac45/month\\n   - **Details:** 100GB mobile data; extra data is \\u20ac1/GB after that. Home internet included.\\n\\n6. **Home Internet**\\n   - **Description:** High-speed internet for your home.\\n   - **Price:** \\u20ac30/month\\n   - **Details:** Unlimited home data at 1Gbps.\\n\\nIf you have any preferences or specific requirements, please let me know, and I can help you choose the best plan for your needs!\", \"name\": \"Sales\"}\n",
      "2025-04-10 16:30:41,308 - INFO - {\"role\": \"assistant\", \"content\": \"We offer a variety of mobile plans to fit different needs. Here\\u2019s a summary of our options:\\n\\n1. **All Voice Plan**\\n   - **Description:** Unlimited calls to all networks.\\n   - **Price:** \\u20ac10/month\\n   - **Details:** Includes 50GB data; extra data is \\u20ac1/GB.\\n\\n2. **Mobile Internet**\\n   - **Description:** Mobile WiFi that supports up to 10 devices.\\n   - **Price:** \\u20ac10/month\\n   - **Details:** Includes 100GB data, 120 minutes of calls, and 100 SMS; extra data is \\u20ac1/GB after that.\\n\\n3. **Large Data Plan**\\n   - **Description:** High data plan for heavy users.\\n   - **Price:** \\u20ac20/month\\n   - **Details:** Includes 250GB data; extra data is \\u20ac0.50/GB. Unlimited calls and SMS.\\n\\n4. **Extra Large Data Plan**\\n   - **Description:** Unlimited data plan for power users.\\n   - **Price:** \\u20ac50/month\\n   - **Details:** Unlimited data at 5G speeds with unlimited calls and SMS.\\n\\n5. **All-in-One Bundle**\\n   - **Description:** Mobile internet and home internet in one package.\\n   - **Price:** \\u20ac45/month\\n   - **Details:** 100GB mobile data; extra data is \\u20ac1/GB after that. Home internet included.\\n\\n6. **Home Internet**\\n   - **Description:** High-speed internet for your home.\\n   - **Price:** \\u20ac30/month\\n   - **Details:** Unlimited home data at 1Gbps.\\n\\nIf you have any preferences or specific requirements, please let me know, and I can help you choose the best plan for your needs!\", \"name\": \"Sales\"}\n",
      "2025-04-10 16:30:41,872 - INFO - HTTP Request: POST https://ricchi-oai-sw.openai.azure.com/openai/deployments/gpt-4o-mini/chat/completions?api-version=2024-08-01-preview \"HTTP/1.1 200 OK\"\n",
      "2025-04-10 16:30:41,873 - INFO - OpenAI usage: CompletionUsage(completion_tokens=3, prompt_tokens=1078, total_tokens=1081, completion_tokens_details=CompletionTokensDetails(accepted_prediction_tokens=0, audio_tokens=0, reasoning_tokens=0, rejected_prediction_tokens=0), prompt_tokens_details=PromptTokensDetails(audio_tokens=0, cached_tokens=0))\n",
      "2025-04-10 16:30:41,874 - INFO - {\"message\": {\"role\": \"assistant\", \"content\": \"PAUSE\"}, \"finish_reason\": \"stop\"}\n",
      "2025-04-10 16:30:41,875 - INFO - Agent user_agent sent message: PAUSE\n",
      "2025-04-10 16:30:41,875 - INFO - Evaluating termination criteria for user_agent\n",
      "2025-04-10 16:30:41,876 - INFO - Evaluated criteria for user_agent, should terminate: True\n"
     ]
    },
    {
     "name": "stdout",
     "output_type": "stream",
     "text": [
      "PAUSE\n"
     ]
    }
   ],
   "source": [
    "async for message in telco_team.invoke(messages=[ask], thread=thread):\n",
    "    print(message.content)"
   ]
  },
  {
   "cell_type": "code",
   "execution_count": 9,
   "id": "688ef82f",
   "metadata": {},
   "outputs": [
    {
     "name": "stdout",
     "output_type": "stream",
     "text": [
      "None Which is your mobile plan\n",
      "Sales We offer a variety of mobile plans to fit different needs. Here’s a summary of our options:\n",
      "\n",
      "1. **All Voice Plan**\n",
      "   - **Description:** Unlimited calls to all networks.\n",
      "   - **Price:** €10/month\n",
      "   - **Details:** Includes 50GB data; extra data is €1/GB.\n",
      "\n",
      "2. **Mobile Internet**\n",
      "   - **Description:** Mobile WiFi that supports up to 10 devices.\n",
      "   - **Price:** €10/month\n",
      "   - **Details:** Includes 100GB data, 120 minutes of calls, and 100 SMS; extra data is €1/GB after that.\n",
      "\n",
      "3. **Large Data Plan**\n",
      "   - **Description:** High data plan for heavy users.\n",
      "   - **Price:** €20/month\n",
      "   - **Details:** Includes 250GB data; extra data is €0.50/GB. Unlimited calls and SMS.\n",
      "\n",
      "4. **Extra Large Data Plan**\n",
      "   - **Description:** Unlimited data plan for power users.\n",
      "   - **Price:** €50/month\n",
      "   - **Details:** Unlimited data at 5G speeds with unlimited calls and SMS.\n",
      "\n",
      "5. **All-in-One Bundle**\n",
      "   - **Description:** Mobile internet and home internet in one package.\n",
      "   - **Price:** €45/month\n",
      "   - **Details:** 100GB mobile data; extra data is €1/GB after that. Home internet included.\n",
      "\n",
      "6. **Home Internet**\n",
      "   - **Description:** High-speed internet for your home.\n",
      "   - **Price:** €30/month\n",
      "   - **Details:** Unlimited home data at 1Gbps.\n",
      "\n",
      "If you have any preferences or specific requirements, please let me know, and I can help you choose the best plan for your needs!\n",
      "User PAUSE\n"
     ]
    }
   ],
   "source": [
    "async for msg in thread.get_messages():\n",
    "    print(msg.name, msg.content)"
   ]
  }
 ],
 "metadata": {
  "kernelspec": {
   "display_name": ".venv (3.12.9)",
   "language": "python",
   "name": "python3"
  },
  "language_info": {
   "codemirror_mode": {
    "name": "ipython",
    "version": 3
   },
   "file_extension": ".py",
   "mimetype": "text/x-python",
   "name": "python",
   "nbconvert_exporter": "python",
   "pygments_lexer": "ipython3",
   "version": "3.12.10"
  }
 },
 "nbformat": 4,
 "nbformat_minor": 5
}
