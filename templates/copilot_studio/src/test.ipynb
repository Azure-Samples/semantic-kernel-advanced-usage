{
 "cells": [
  {
   "cell_type": "code",
   "execution_count": 1,
   "metadata": {},
   "outputs": [],
   "source": [
    "import sys\n",
    "sys.path.append('.')"
   ]
  },
  {
   "cell_type": "code",
   "execution_count": 2,
   "metadata": {},
   "outputs": [],
   "source": [
    "%load_ext autoreload\n",
    "%autoreload 2"
   ]
  },
  {
   "cell_type": "code",
   "execution_count": 3,
   "metadata": {},
   "outputs": [
    {
     "data": {
      "text/plain": [
       "True"
      ]
     },
     "execution_count": 3,
     "metadata": {},
     "output_type": "execute_result"
    }
   ],
   "source": [
    "from dotenv import load_dotenv\n",
    "load_dotenv(override=True)\n"
   ]
  },
  {
   "cell_type": "code",
   "execution_count": 6,
   "metadata": {},
   "outputs": [],
   "source": [
    "from copilot_studio_agent import CopilotAgent\n",
    "from directline_client import DirectLineClient\n",
    "import os\n",
    "\n",
    "client = DirectLineClient(\n",
    "    copilot_agent_secret=os.getenv(\"BOT_SECRET\"),\n",
    "    directline_endpoint=\"https://europe.directline.botframework.com/v3/directline\"\n",
    ")\n",
    "\n",
    "agent = CopilotAgent(\n",
    "    id=\"copilot_studio\",\n",
    "    name=\"copilot_studio\",\n",
    "    description=\"copilot_studio\",\n",
    "    directline_client=client,\n",
    ")"
   ]
  },
  {
   "cell_type": "code",
   "execution_count": 9,
   "metadata": {},
   "outputs": [
    {
     "name": "stdout",
     "output_type": "stream",
     "text": [
      "☑ Based on official sources\n",
      "\n",
      "To perform a hard reset on a Surface 4, follow these steps:\n",
      "\n",
      "1. **Turn off your Surface**: Press and hold the power button until the screen turns off and the Surface shuts down completely.\n",
      "\n",
      "2. **Press and hold the Volume Up button**: While holding the Volume Up button, press and release the Power button.\n",
      "\n",
      "3. **Continue holding the Volume Up button**: Keep holding the Volume Up button until the Surface logo appears on the screen. This will take you to the UEFI (Unified Extensible Firmware Interface) settings.\n",
      "\n",
      "4. **Navigate to the Reset option**: Use the volume buttons to navigate through the UEFI menu and select the \"Reset\" option.\n",
      "\n",
      "5. **Confirm the reset**: Follow the on-screen instructions to confirm the reset. This will erase all data and restore the Surface to its factory settings.\n",
      "\n",
      "Please note that performing a hard reset will delete all your data, so make sure to back up any important files before proceeding.\n"
     ]
    }
   ],
   "source": [
    "from copilot_studio_agent_thread import CopilotAgentThread\n",
    "import logging\n",
    "logging.basicConfig(level=logging.INFO)\n",
    "\n",
    "thread = CopilotAgentThread(\n",
    "    directline_client=client,\n",
    ")\n",
    "\n",
    "async for message in agent.invoke(messages=\"How to hard reset my Surface 4?\", thread=thread):\n",
    "    print(message)"
   ]
  }
 ],
 "metadata": {
  "kernelspec": {
   "display_name": "Python 3",
   "language": "python",
   "name": "python3"
  },
  "language_info": {
   "codemirror_mode": {
    "name": "ipython",
    "version": 3
   },
   "file_extension": ".py",
   "mimetype": "text/x-python",
   "name": "python",
   "nbconvert_exporter": "python",
   "pygments_lexer": "ipython3",
   "version": "3.12.9"
  }
 },
 "nbformat": 4,
 "nbformat_minor": 2
}
