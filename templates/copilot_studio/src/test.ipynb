{
 "cells": [
  {
   "cell_type": "code",
   "execution_count": 22,
   "metadata": {},
   "outputs": [
    {
     "name": "stdout",
     "output_type": "stream",
     "text": [
      "The autoreload extension is already loaded. To reload it, use:\n",
      "  %reload_ext autoreload\n"
     ]
    },
    {
     "name": "stderr",
     "output_type": "stream",
     "text": [
      "[autoreload of direct_line_agent failed: Traceback (most recent call last):\n",
      "  File \"c:\\Users\\ricchi\\Repos\\semantic-kernel-advanced-usage\\.venv\\Lib\\site-packages\\IPython\\extensions\\autoreload.py\", line 283, in check\n",
      "    superreload(m, reload, self.old_objects)\n",
      "  File \"c:\\Users\\ricchi\\Repos\\semantic-kernel-advanced-usage\\.venv\\Lib\\site-packages\\IPython\\extensions\\autoreload.py\", line 508, in superreload\n",
      "    update_generic(old_obj, new_obj)\n",
      "  File \"c:\\Users\\ricchi\\Repos\\semantic-kernel-advanced-usage\\.venv\\Lib\\site-packages\\IPython\\extensions\\autoreload.py\", line 405, in update_generic\n",
      "    update(a, b)\n",
      "  File \"c:\\Users\\ricchi\\Repos\\semantic-kernel-advanced-usage\\.venv\\Lib\\site-packages\\IPython\\extensions\\autoreload.py\", line 357, in update_class\n",
      "    if update_generic(old_obj, new_obj):\n",
      "       ^^^^^^^^^^^^^^^^^^^^^^^^^^^^^^^^\n",
      "  File \"c:\\Users\\ricchi\\Repos\\semantic-kernel-advanced-usage\\.venv\\Lib\\site-packages\\IPython\\extensions\\autoreload.py\", line 405, in update_generic\n",
      "    update(a, b)\n",
      "  File \"c:\\Users\\ricchi\\Repos\\semantic-kernel-advanced-usage\\.venv\\Lib\\site-packages\\IPython\\extensions\\autoreload.py\", line 317, in update_function\n",
      "    setattr(old, name, getattr(new, name))\n",
      "ValueError: get_response() requires a code object with 0 free vars, not 2048699400194\n",
      "]\n"
     ]
    }
   ],
   "source": [
    "%load_ext autoreload\n",
    "%autoreload 2"
   ]
  },
  {
   "cell_type": "code",
   "execution_count": 23,
   "metadata": {},
   "outputs": [
    {
     "data": {
      "text/plain": [
       "True"
      ]
     },
     "execution_count": 23,
     "metadata": {},
     "output_type": "execute_result"
    }
   ],
   "source": [
    "from dotenv import load_dotenv\n",
    "load_dotenv(override=True)\n"
   ]
  },
  {
   "cell_type": "code",
   "execution_count": 24,
   "metadata": {},
   "outputs": [],
   "source": [
    "from direct_line_agent import DirectLineAgent\n",
    "import os\n",
    "\n",
    "agent = DirectLineAgent(\n",
    "    id=\"copilot_studio\",\n",
    "    name=\"copilot_studio\",\n",
    "    description=\"copilot_studio\",\n",
    "    bot_secret=os.getenv(\"BOT_SECRET\"),\n",
    "    bot_endpoint=\"https://europe.directline.botframework.com/v3/directline\"\n",
    ")"
   ]
  },
  {
   "cell_type": "code",
   "execution_count": 25,
   "metadata": {},
   "outputs": [
    {
     "name": "stdout",
     "output_type": "stream",
     "text": [
      "☑ Based on official sources\n",
      "\n",
      "To perform a hard reset on a Microsoft Surface Pro 4, follow these steps:\n",
      "\n",
      "1. **Press and hold the Power button**: Hold down the Power button for about 30 seconds, then release it.\n",
      "2. **Press and hold the Power button and Volume Up button**: After releasing the Power button, press and hold both the Power button and the Volume Up button simultaneously for at least 15 seconds, then release both buttons.\n",
      "3. **Wait for 10 seconds**: After releasing the buttons, wait for about 10 seconds.\n",
      "4. **Turn on the Surface**: Press the Power button again to turn on your Surface Pro 4.\n",
      "\n",
      "This process should perform a hard reset on your Surface Pro 4. If you continue to experience issues, you may need to consider other troubleshooting steps or contact Microsoft Support for further assistance.\n"
     ]
    }
   ],
   "source": [
    "from semantic_kernel.contents.chat_history import ChatHistory\n",
    "import logging\n",
    "logging.basicConfig(level=logging.INFO)\n",
    "\n",
    "chat_history = ChatHistory()\n",
    "chat_history.add_user_message(\"How to hard reset my Surface 4?\")\n",
    "\n",
    "async for message in agent.invoke(chat_history):\n",
    "    print(message)"
   ]
  }
 ],
 "metadata": {
  "kernelspec": {
   "display_name": ".venv",
   "language": "python",
   "name": "python3"
  },
  "language_info": {
   "codemirror_mode": {
    "name": "ipython",
    "version": 3
   },
   "file_extension": ".py",
   "mimetype": "text/x-python",
   "name": "python",
   "nbconvert_exporter": "python",
   "pygments_lexer": "ipython3",
   "version": "3.12.9"
  }
 },
 "nbformat": 4,
 "nbformat_minor": 2
}
