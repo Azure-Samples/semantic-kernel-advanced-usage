{
 "cells": [
  {
   "cell_type": "code",
   "execution_count": 9,
   "metadata": {},
   "outputs": [
    {
     "name": "stdout",
     "output_type": "stream",
     "text": [
      "The autoreload extension is already loaded. To reload it, use:\n",
      "  %reload_ext autoreload\n"
     ]
    }
   ],
   "source": [
    "%load_ext autoreload\n",
    "%autoreload 2"
   ]
  },
  {
   "cell_type": "code",
   "execution_count": 10,
   "metadata": {},
   "outputs": [
    {
     "data": {
      "text/plain": [
       "True"
      ]
     },
     "execution_count": 10,
     "metadata": {},
     "output_type": "execute_result"
    }
   ],
   "source": [
    "from dotenv import load_dotenv\n",
    "load_dotenv(override=True)\n"
   ]
  },
  {
   "cell_type": "code",
   "execution_count": 11,
   "metadata": {},
   "outputs": [],
   "source": [
    "from direct_line_agent import DirectLineAgent\n",
    "import os\n",
    "\n",
    "agent = DirectLineAgent(\n",
    "    id=\"copilot_studio\",\n",
    "    name=\"copilot_studio\",\n",
    "    description=\"copilot_studio\",\n",
    "    bot_secret=os.getenv(\"BOT_SECRET\"),\n",
    "    bot_endpoint=\"https://europe.directline.botframework.com/v3/directline\"\n",
    ")"
   ]
  },
  {
   "cell_type": "code",
   "execution_count": 13,
   "metadata": {},
   "outputs": [
    {
     "name": "stdout",
     "output_type": "stream",
     "text": [
      "How to hard reset my Surface 4?\n",
      "To perform a hard reset on a Microsoft Surface 4, follow these steps:\n",
      "\n",
      "1. **Turn off your Surface**:\n",
      "   - Press and hold the power button for about 10 seconds until the screen turns off and then release it.\n",
      "\n",
      "2. **Press and hold the volume-up button and the power button**:\n",
      "   - Press and hold the volume-up button and the power button at the same time for at least 15 seconds, then release both buttons.\n",
      "\n",
      "3. **Wait for the Surface logo to appear**:\n",
      "   - After releasing the buttons, wait for about 10 seconds. The Surface logo should appear on the screen.\n",
      "\n",
      "4. **Restart your Surface**:\n",
      "   - Press the power button to turn your Surface back on.\n",
      "\n",
      "If you need to reset your Surface to its factory settings, follow these steps:\n",
      "\n",
      "1. **Go to Settings**:\n",
      "   - Open the Start menu and select Settings.\n",
      "\n",
      "2. **Navigate to Update & Security**:\n",
      "   - In the Settings menu, select Update & Security.\n",
      "\n",
      "3. **Select Recovery**:\n",
      "   - In the Update & Security menu, select Recovery from the list on the left.\n",
      "\n",
      "4. **Reset this PC**:\n",
      "   - Under the \"Reset this PC\" section, select Get started.\n",
      "\n",
      "5. **Choose an option**:\n",
      "   - You will be given two options: \"Keep my files\" or \"Remove everything.\" Choose the option that best suits your needs.\n",
      "\n",
      "6. **Follow the on-screen instructions**:\n",
      "   - Follow the prompts to complete the reset process.\n",
      "\n",
      "Please note that performing a factory reset will erase all data on your device, so make sure to back up any important files before proceeding.\n",
      "How to hard reset my Surface 4?\n"
     ]
    }
   ],
   "source": [
    "from semantic_kernel.contents.chat_history import ChatHistory\n",
    "import logging\n",
    "logging.basicConfig(level=logging.INFO)\n",
    "\n",
    "chat_history = ChatHistory()\n",
    "chat_history.add_user_message(\"How to hard reset my Surface 4?\")\n",
    "\n",
    "async for message in agent.invoke(chat_history):\n",
    "    print(message)"
   ]
  }
 ],
 "metadata": {
  "kernelspec": {
   "display_name": ".venv",
   "language": "python",
   "name": "python3"
  },
  "language_info": {
   "codemirror_mode": {
    "name": "ipython",
    "version": 3
   },
   "file_extension": ".py",
   "mimetype": "text/x-python",
   "name": "python",
   "nbconvert_exporter": "python",
   "pygments_lexer": "ipython3",
   "version": "3.12.9"
  }
 },
 "nbformat": 4,
 "nbformat_minor": 2
}
