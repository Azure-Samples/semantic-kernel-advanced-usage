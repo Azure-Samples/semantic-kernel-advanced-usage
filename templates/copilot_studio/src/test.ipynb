{
 "cells": [
  {
   "cell_type": "code",
   "execution_count": 18,
   "metadata": {},
   "outputs": [
    {
     "name": "stdout",
     "output_type": "stream",
     "text": [
      "The autoreload extension is already loaded. To reload it, use:\n",
      "  %reload_ext autoreload\n"
     ]
    }
   ],
   "source": [
    "%load_ext autoreload\n",
    "%autoreload 2"
   ]
  },
  {
   "cell_type": "code",
   "execution_count": 19,
   "metadata": {},
   "outputs": [
    {
     "data": {
      "text/plain": [
       "True"
      ]
     },
     "execution_count": 19,
     "metadata": {},
     "output_type": "execute_result"
    }
   ],
   "source": [
    "from dotenv import load_dotenv\n",
    "load_dotenv(override=True)\n"
   ]
  },
  {
   "cell_type": "code",
   "execution_count": 20,
   "metadata": {},
   "outputs": [],
   "source": [
    "from direct_line_agent import DirectLineAgent\n",
    "import os\n",
    "\n",
    "agent = DirectLineAgent(\n",
    "    id=\"copilot_studio\",\n",
    "    name=\"copilot_studio\",\n",
    "    description=\"copilot_studio\",\n",
    "    bot_secret=os.getenv(\"BOT_SECRET\"),\n",
    "    bot_endpoint=\"https://europe.directline.botframework.com/v3/directline\"\n",
    ")"
   ]
  },
  {
   "cell_type": "code",
   "execution_count": 21,
   "metadata": {},
   "outputs": [
    {
     "ename": "CancelledError",
     "evalue": "",
     "output_type": "error",
     "traceback": [
      "\u001b[31m---------------------------------------------------------------------------\u001b[39m",
      "\u001b[31mCancelledError\u001b[39m                            Traceback (most recent call last)",
      "\u001b[36mCell\u001b[39m\u001b[36m \u001b[39m\u001b[32mIn[21]\u001b[39m\u001b[32m, line 8\u001b[39m\n\u001b[32m      5\u001b[39m chat_history = ChatHistory()\n\u001b[32m      6\u001b[39m chat_history.add_user_message(\u001b[33m\"\u001b[39m\u001b[33mHow to hard reset my Surface 4?\u001b[39m\u001b[33m\"\u001b[39m)\n\u001b[32m----> \u001b[39m\u001b[32m8\u001b[39m \u001b[38;5;28;01masync\u001b[39;00m \u001b[38;5;28;01mfor\u001b[39;00m message \u001b[38;5;129;01min\u001b[39;00m agent.invoke(chat_history):\n\u001b[32m      9\u001b[39m     \u001b[38;5;28mprint\u001b[39m(message)\n",
      "\u001b[36mFile \u001b[39m\u001b[32mc:\\Users\\ricchi\\Repos\\semantic-kernel-advanced-usage\\templates\\copilot_studio\\src\\direct_line_agent.py:116\u001b[39m, in \u001b[36mDirectLineAgent.invoke\u001b[39m\u001b[34m(self, history, arguments, **kwargs)\u001b[39m\n\u001b[32m    107\u001b[39m \u001b[38;5;250m\u001b[39m\u001b[33;03m\"\"\"\u001b[39;00m\n\u001b[32m    108\u001b[39m \u001b[33;03mSend the latest message from the chat history to the DirectLine Bot\u001b[39;00m\n\u001b[32m    109\u001b[39m \u001b[33;03mand yield responses. This sends the payload after ensuring that:\u001b[39;00m\n\u001b[32m   (...)\u001b[39m\u001b[32m    113\u001b[39m \u001b[33;03m  4. Activities are polled until an event \"DynamicPlanFinished\" is received.\u001b[39;00m\n\u001b[32m    114\u001b[39m \u001b[33;03m\"\"\"\u001b[39;00m\n\u001b[32m    115\u001b[39m payload = \u001b[38;5;28mself\u001b[39m._build_payload(history, arguments, **kwargs)\n\u001b[32m--> \u001b[39m\u001b[32m116\u001b[39m response_data = \u001b[38;5;28;01mawait\u001b[39;00m \u001b[38;5;28mself\u001b[39m._send_message(payload)\n\u001b[32m    117\u001b[39m \u001b[38;5;28;01mif\u001b[39;00m response_data \u001b[38;5;129;01mis\u001b[39;00m \u001b[38;5;28;01mNone\u001b[39;00m \u001b[38;5;129;01mor\u001b[39;00m \u001b[33m\"\u001b[39m\u001b[33mactivities\u001b[39m\u001b[33m\"\u001b[39m \u001b[38;5;129;01mnot\u001b[39;00m \u001b[38;5;129;01min\u001b[39;00m response_data:\n\u001b[32m    118\u001b[39m     \u001b[38;5;28;01mraise\u001b[39;00m AgentInvokeException(\n\u001b[32m    119\u001b[39m         \u001b[33mf\u001b[39m\u001b[33m\"\u001b[39m\u001b[33mInvalid response from DirectLine Bot.\u001b[39m\u001b[38;5;130;01m\\n\u001b[39;00m\u001b[38;5;132;01m{\u001b[39;00mresponse_data\u001b[38;5;132;01m}\u001b[39;00m\u001b[33m\"\u001b[39m\n\u001b[32m    120\u001b[39m     )\n",
      "\u001b[36mFile \u001b[39m\u001b[32mc:\\Users\\ricchi\\Repos\\semantic-kernel-advanced-usage\\templates\\copilot_studio\\src\\direct_line_agent.py:233\u001b[39m, in \u001b[36mDirectLineAgent._send_message\u001b[39m\u001b[34m(self, payload)\u001b[39m\n\u001b[32m    231\u001b[39m         \u001b[38;5;28;01melse\u001b[39;00m:\n\u001b[32m    232\u001b[39m             logger.error(\u001b[33m\"\u001b[39m\u001b[33mError polling activities. Status: \u001b[39m\u001b[38;5;132;01m%s\u001b[39;00m\u001b[33m\"\u001b[39m, resp.status)\n\u001b[32m--> \u001b[39m\u001b[32m233\u001b[39m     \u001b[38;5;28;01mawait\u001b[39;00m asyncio.sleep(\u001b[32m0.3\u001b[39m)\n\u001b[32m    235\u001b[39m \u001b[38;5;28;01mreturn\u001b[39;00m collected_data\n",
      "\u001b[36mFile \u001b[39m\u001b[32mC:\\Program Files\\WindowsApps\\PythonSoftwareFoundation.Python.3.12_3.12.2544.0_x64__qbz5n2kfra8p0\\Lib\\asyncio\\tasks.py:665\u001b[39m, in \u001b[36msleep\u001b[39m\u001b[34m(delay, result)\u001b[39m\n\u001b[32m    661\u001b[39m h = loop.call_later(delay,\n\u001b[32m    662\u001b[39m                     futures._set_result_unless_cancelled,\n\u001b[32m    663\u001b[39m                     future, result)\n\u001b[32m    664\u001b[39m \u001b[38;5;28;01mtry\u001b[39;00m:\n\u001b[32m--> \u001b[39m\u001b[32m665\u001b[39m     \u001b[38;5;28;01mreturn\u001b[39;00m \u001b[38;5;28;01mawait\u001b[39;00m future\n\u001b[32m    666\u001b[39m \u001b[38;5;28;01mfinally\u001b[39;00m:\n\u001b[32m    667\u001b[39m     h.cancel()\n",
      "\u001b[31mCancelledError\u001b[39m: "
     ]
    }
   ],
   "source": [
    "from semantic_kernel.contents.chat_history import ChatHistory\n",
    "import logging\n",
    "logging.basicConfig(level=logging.INFO)\n",
    "\n",
    "chat_history = ChatHistory()\n",
    "chat_history.add_user_message(\"How to hard reset my Surface 4?\")\n",
    "\n",
    "async for message in agent.invoke(chat_history):\n",
    "    print(message)"
   ]
  }
 ],
 "metadata": {
  "kernelspec": {
   "display_name": ".venv",
   "language": "python",
   "name": "python3"
  },
  "language_info": {
   "codemirror_mode": {
    "name": "ipython",
    "version": 3
   },
   "file_extension": ".py",
   "mimetype": "text/x-python",
   "name": "python",
   "nbconvert_exporter": "python",
   "pygments_lexer": "ipython3",
   "version": "3.12.9"
  }
 },
 "nbformat": 4,
 "nbformat_minor": 2
}
