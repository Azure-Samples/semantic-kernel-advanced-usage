{
 "cells": [
  {
   "cell_type": "code",
   "execution_count": 5,
   "metadata": {},
   "outputs": [
    {
     "name": "stdout",
     "output_type": "stream",
     "text": [
      "The autoreload extension is already loaded. To reload it, use:\n",
      "  %reload_ext autoreload\n"
     ]
    }
   ],
   "source": [
    "%load_ext autoreload\n",
    "%autoreload 2"
   ]
  },
  {
   "cell_type": "code",
   "execution_count": 6,
   "metadata": {},
   "outputs": [
    {
     "data": {
      "text/plain": [
       "False"
      ]
     },
     "execution_count": 6,
     "metadata": {},
     "output_type": "execute_result"
    }
   ],
   "source": [
    "from dotenv import load_dotenv\n",
    "load_dotenv(override=True)\n"
   ]
  },
  {
   "cell_type": "code",
   "execution_count": null,
   "metadata": {},
   "outputs": [],
   "source": [
    "from direct_line_agent import DirectLineAgent\n",
    "import os\n",
    "\n",
    "agent = DirectLineAgent(\n",
    "    id=\"copilot_studio\",\n",
    "    name=\"copilot_studio\",\n",
    "    description=\"copilot_studio\",\n",
    "    token_endpoint=os.getenv(\"BOT_TOKEN_ENDPOINT\"),\n",
    "    bot_endpoint=\"https://europe.directline.botframework.com/v3/directline\"\n",
    ")"
   ]
  },
  {
   "cell_type": "code",
   "execution_count": null,
   "metadata": {},
   "outputs": [
    {
     "name": "stdout",
     "output_type": "stream",
     "text": [
      "To perform a hard reset on a Microsoft Surface 4, follow these steps:\n",
      "\n",
      "1. **Turn off your Surface**: Press and hold the power button until the screen turns off and the device is completely powered down.\n",
      "\n",
      "2. **Press and hold the Volume Up button**: While holding the Volume Up button, press and release the Power button.\n",
      "\n",
      "3. **Continue holding the Volume Up button**: Keep holding the Volume Up button until the Surface logo appears on the screen. This will take you to the UEFI (Unified Extensible Firmware Interface) settings.\n",
      "\n",
      "4. **Navigate to the Reset option**: Use the volume buttons to navigate through the UEFI menu and select the \"Reset\" option. Follow the on-screen instructions to complete the reset process.\n",
      "\n",
      "5. **Confirm the reset**: You may be asked to confirm that you want to reset your Surface. Confirm the action to proceed.\n",
      "\n",
      "Please note that performing a hard reset will erase all data on your device, so make sure to back up any important files before proceeding.\n"
     ]
    }
   ],
   "source": [
    "from semantic_kernel.contents.chat_history import ChatHistory\n",
    "import logging\n",
    "logging.basicConfig(level=logging.INFO)\n",
    "\n",
    "chat_history = ChatHistory()\n",
    "chat_history.add_user_message(\"How to hard reset my Surface 4?\")\n",
    "\n",
    "async for message in agent.invoke(chat_history):\n",
    "    print(message)"
   ]
  }
 ],
 "metadata": {
  "kernelspec": {
   "display_name": ".venv",
   "language": "python",
   "name": "python3"
  },
  "language_info": {
   "codemirror_mode": {
    "name": "ipython",
    "version": 3
   },
   "file_extension": ".py",
   "mimetype": "text/x-python",
   "name": "python",
   "nbconvert_exporter": "python",
   "pygments_lexer": "ipython3",
   "version": "3.13.2"
  }
 },
 "nbformat": 4,
 "nbformat_minor": 2
}
